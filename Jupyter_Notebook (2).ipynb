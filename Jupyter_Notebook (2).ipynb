{
 "cells": [
  {
   "cell_type": "markdown",
   "metadata": {},
   "source": [
    "<center>\n",
    "    <img src=\"https://cf-courses-data.s3.us.cloud-object-storage.appdomain.cloud/IBMDeveloperSkillsNetwork-DS0105EN-SkillsNetwork/labs/Module2/images/SN_web_lightmode.png\" width=\"300\" alt=\"cognitiveclass.ai logo\">\n",
    "</center>\n"
   ]
  },
  {
   "cell_type": "markdown",
   "metadata": {},
   "source": [
    "#### Add your code below following the instructions given in the course\n"
   ]
  },
  {
   "cell_type": "markdown",
   "metadata": {},
   "source": [
    "# My Jupyter Notebook on IBM Watson Studio"
   ]
  },
  {
   "cell_type": "markdown",
   "metadata": {},
   "source": [
    "__VIKAS GANGWAR__\n",
    "\n",
    " CURRENT OCCUPATION - STUDENT\n",
    " \n",
    " DESIRED OCCUPATION - DATA SCIENTIST"
   ]
  },
  {
   "cell_type": "markdown",
   "metadata": {},
   "source": [
    "I am interested in data science because it is an interesting field, and has good remunerations as well as."
   ]
  },
  {
   "cell_type": "markdown",
   "metadata": {},
   "source": [
    "### In cell 5, I am going to add 2 variables and will also be printing them."
   ]
  },
  {
   "cell_type": "code",
   "execution_count": 3,
   "metadata": {},
   "outputs": [
    {
     "name": "stdout",
     "output_type": "stream",
     "text": [
      "15\n"
     ]
    }
   ],
   "source": [
    "x = 5\n",
    "y = 10\n",
    "\n",
    "print(x+y)"
   ]
  },
  {
   "cell_type": "markdown",
   "metadata": {},
   "source": [
    "This is horizontal rule\n",
    "___\n",
    "Sure !!\n",
    "- Here is the example of bulleted list\n",
    "\n",
    "  * This is first sub bullet\n",
    " \n",
    "  * This is second sub bullet\n",
    " \n",
    "  * This is third sub bullet\n",
    "  \n",
    " This is an example of numbered list\n",
    "  1. January\n",
    "  1. February\n",
    "  1. March\n",
    "  1. April\n",
    "  1. May\n",
    "  \n",
    "  This is an example of Table\n",
    "  \n",
    "  | Heading | Heading |\n",
    "  | ----| ----|\n",
    "  | text | text |\n",
    "  | text | text |\n",
    "  \n",
    "  This is an example of hyperlink\n",
    "  \n",
    "  [This is an link ](https://jupyter.org/)\n",
    "  \n",
    "  \n",
    "  "
   ]
  }
 ],
 "metadata": {
  "kernelspec": {
   "display_name": "Python",
   "language": "python",
   "name": "conda-env-python-py"
  },
  "language_info": {
   "codemirror_mode": {
    "name": "ipython",
    "version": 3
   },
   "file_extension": ".py",
   "mimetype": "text/x-python",
   "name": "python",
   "nbconvert_exporter": "python",
   "pygments_lexer": "ipython3",
   "version": "3.7.12"
  }
 },
 "nbformat": 4,
 "nbformat_minor": 4
}
